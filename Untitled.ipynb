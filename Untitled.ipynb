{
 "cells": [
  {
   "cell_type": "code",
   "execution_count": 1,
   "id": "4c3522ba",
   "metadata": {},
   "outputs": [
    {
     "name": "stdout",
     "output_type": "stream",
     "text": [
      "2\n"
     ]
    }
   ],
   "source": [
    "#聯合登記分發 2022.08.23\n",
    "#from selenium import webdriver\n",
    "#from selenium.webdriver.support.ui import WebDriverWait\n",
    "#from selenium.webdriver.support import expected_conditions\n",
    "from selenium.webdriver.common.by import By\n",
    "import time, datetime, random\n",
    "from undetected_chromedriver import Chrome\n",
    "\n",
    "\n",
    "starttime = datetime.datetime.now() #開始執行時間\n",
    "\n",
    "Group_lists = ['01機械','02動機','03電機','04資電','05化工','06土木','07設計','08工管','09商管','10衛護','11食品','12幼保',\n",
    "             '13生活','14農業','15英語','16日語','17餐旅','18海事','19水產','20藝影']\n",
    "\n",
    "#Group_lists = ['01機械'] #TEST用\n",
    "\n",
    "School_name=''\n",
    "Department=''\n",
    "Pass_criteria='' \n",
    "\n",
    "browser = Chrome()\n",
    "browser.get(\"https://www.com.tw/techreg/groupid_list111.html\")\n",
    "time.sleep(20)\n",
    "\n",
    "for Group_list in Group_lists:\n",
    "    url='https://www.com.tw/techreg/groupid_'+Group_list[:2]+'_111.html'    \n",
    "    #在瀏覽器打上網址連入\n",
    "    time.sleep(2)\n",
    "    browser.get(url)\n",
    "    \n",
    "    for i in range(400):\n",
    "        try:\n",
    "            variable_1 = browser.find_element(\"xpath\",'/html/body/div[2]/div[4]/div[2]/div[4]/table/tbody/tr['+str(4+i*2)+']/td[2]/div[1]/a').text\n",
    "            School_name = variable_1.split(' ')[0]\n",
    "            Department = variable_1.split(' ')[1]\n",
    "\n",
    "            Pass_criteria = (browser.find_element(\"xpath\",'/html/body/div[2]/div[4]/div[2]/div[4]/table/tbody/tr['+str(4+i*2)+']/td[4]/div[1]').text).split(' / ')[1]\n",
    "            with open('C:/Users/phamt/Downloads/Score.txt', \"a\", encoding=\"utf-8\") as f:\n",
    "                f.write(Group_list+ '|'+ School_name +'|'+ Department +'|'+ Pass_criteria+'\\n')\n",
    "#         open('C:/Users/phamt/Downloads/Score.txt','a', encoding=\"utf-8\").write(Group_list+ '|'+ School_name +'|'+ Department +'|'+ Pass_criteria+'\\n')\n",
    "        except:\n",
    "            break\n",
    "endtime = datetime.datetime.now() #執行結束時間\n",
    "print ('開始時間：'+ str(starttime) +'\\n結束時間：'+ str(endtime) +'\\n共執行：'+str(endtime - starttime))\n"
   ]
  },
  {
   "cell_type": "code",
   "execution_count": 4,
   "id": "20e87254",
   "metadata": {},
   "outputs": [
    {
     "name": "stdout",
     "output_type": "stream",
     "text": [
      "開始時間：2023-06-21 11:58:10.395608\n",
      "結束時間：2023-06-21 12:44:57.246689\n",
      "共執行：0:46:46.851081\n"
     ]
    }
   ],
   "source": [
    "#聯合登記分發 2022.08.23\n",
    "#from selenium import webdriver\n",
    "#from selenium.webdriver.support.ui import WebDriverWait\n",
    "#from selenium.webdriver.support import expected_conditions\n",
    "from selenium.webdriver.common.by import By\n",
    "import time, datetime, random\n",
    "from undetected_chromedriver import Chrome\n",
    "\n",
    "\n",
    "starttime = datetime.datetime.now() #開始執行時間\n",
    "\n",
    "Group_lists = ['01機械','02動機','03電機','04資電','05化工','06土木','07設計','08工管','09商管','10衛護','11食品','12幼保',\n",
    "             '13生活','14農業','15英語','16日語','17餐旅','18海事','19水產','20藝影']\n",
    "\n",
    "#Group_lists = ['01機械'] #TEST用\n",
    "\n",
    "School_name=''\n",
    "Department=''\n",
    "Pass_criteria='' \n",
    "\n",
    "browser = Chrome()\n",
    "browser.get(\"https://www.com.tw/vtech/groupid_list111.html\")\n",
    "time.sleep(20)\n",
    "\n",
    "for Group_list in Group_lists:\n",
    "    url='https://www.com.tw/vtech/groupid_'+Group_list[:2]+'_111.html'    \n",
    "    #在瀏覽器打上網址連入\n",
    "    time.sleep(2)\n",
    "    browser.get(url)\n",
    "    \n",
    "    for i in range(400):\n",
    "        try:\n",
    "            variable_1 = browser.find_element(\"xpath\",'/html/body/div[2]/div[4]/div[2]/div[4]/table/tbody/tr['+str(4+i*2)+']/td[2]/div[1]/a').text\n",
    "            School_name = variable_1.split(' ')[0]\n",
    "            Department = variable_1.split(' ')[1]\n",
    "            Pass_criteria = browser.find_element(\"xpath\",'/html/body/div[2]/div[4]/div[2]/div[4]/table/tbody/tr['+str(4+i*2)+']/td[3]/div[1]').text\n",
    "            with open('C:/Users/phamt/Downloads/Score1.txt', \"a\", encoding=\"utf-8\") as f:\n",
    "                f.write(Group_list+ '|'+ School_name +'|'+ Department +'|'+ Pass_criteria+'\\n')\n",
    "#         open('C:/Users/phamt/Downloads/Score1.txt','a', encoding=\"utf-8\").write(Group_list+ '|'+ School_name +'|'+ Department +'|'+ Pass_criteria+'\\n')\n",
    "        except:\n",
    "            break\n",
    "endtime = datetime.datetime.now() #執行結束時間\n",
    "print ('開始時間：'+ str(starttime) +'\\n結束時間：'+ str(endtime) +'\\n共執行：'+str(endtime - starttime))\n"
   ]
  },
  {
   "cell_type": "code",
   "execution_count": null,
   "id": "1f4a31e4",
   "metadata": {},
   "outputs": [],
   "source": []
  }
 ],
 "metadata": {
  "kernelspec": {
   "display_name": "Python 3 (ipykernel)",
   "language": "python",
   "name": "python3"
  },
  "language_info": {
   "codemirror_mode": {
    "name": "ipython",
    "version": 3
   },
   "file_extension": ".py",
   "mimetype": "text/x-python",
   "name": "python",
   "nbconvert_exporter": "python",
   "pygments_lexer": "ipython3",
   "version": "3.9.7"
  }
 },
 "nbformat": 4,
 "nbformat_minor": 5
}
